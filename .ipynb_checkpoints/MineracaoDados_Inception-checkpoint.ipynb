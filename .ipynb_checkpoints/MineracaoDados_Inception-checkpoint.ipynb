{
 "cells": [
  {
   "cell_type": "code",
   "execution_count": 3,
   "metadata": {
    "id": "WoY9afU0XZzj"
   },
   "outputs": [],
   "source": [
    "from tsai.all import *"
   ]
  },
  {
   "cell_type": "markdown",
   "metadata": {
    "id": "meB_WTL3N2mO"
   },
   "source": [
    "# Rede Inception"
   ]
  },
  {
   "cell_type": "code",
   "execution_count": null,
   "metadata": {
    "id": "bMrtOSWyYMJD"
   },
   "outputs": [],
   "source": [
    "# Helper to shortcut for residual blocks, don't do anything\n",
    "def noop(x: torch.Tensor) -> torch.Tensor:\n",
    "    return x\n",
    "\n",
    "# class ReLU(nn.Module):\n",
    "#     \"\"\" ReLU Activation Function\n",
    "#     \"\"\"\n",
    "#     def __init__(self):\n",
    "#         super().__init__()\n",
    "\n",
    "    def forward(self, x: torch.Tensor) -> torch.Tensor:\n",
    "        return nn.functional.relu(x)\n",
    "\n",
    "class InceptionModule(nn.Module):\n",
    "    def __init__(self, in_channels: int, out_channels: int, kernel_size: Tuple[int, int, int] = [7, 5, 3], bottleneck: bool = True) -> None:\n",
    "        \"\"\" Inception Module to apply parallel convolution on time series.\n",
    "\n",
    "        Args:\n",
    "            in_channels (int): Number of input channels.\n",
    "            out_channels (int): Number of output channels.\n",
    "            kernel_size (Tuple[int, int, int], optional): Number of kernels. Defaults to [7, 5, 3].\n",
    "            bottleneck (bool, optional): If apply a bottleneck layer to convert the number of channels to the correct shape. Defaults to True.\n",
    "        \"\"\"\n",
    "        super().__init__()\n",
    "\n",
    "        self.kernel_sizes = kernel_size\n",
    "        # Only apply bottleneck if the input channels number is bigger than 1\n",
    "        bottleneck = bottleneck if in_channels > 1 else False\n",
    "        self.bottleneck = nn.Conv1d(in_channels, out_channels, kernel_size=1, bias=False, padding='same') if bottleneck else noop\n",
    "        # Calculate and apply convolutions for each kernel size\n",
    "        self.convolutions = nn.ModuleList([\n",
    "            nn.Conv1d(out_channels if bottleneck else in_channels, out_channels, kernel_size=k, padding='same', bias=False) for k in self.kernel_sizes\n",
    "        ])\n",
    "        # Max Convolutional Pooling layer\n",
    "        self.maxconv = nn.Sequential(*[nn.MaxPool1d(3, stride=1, padding=1), nn.Conv1d(in_channels, out_channels, 1, bias=False, padding='same')])\n",
    "        self.batchnorm = nn.BatchNorm1d(out_channels * 4)\n",
    "        self.activation = ReLU() # We just have to modify this activation between ReLU and LeakySineLU\n",
    "\n",
    "    def forward(self, x: torch.Tensor) -> torch.Tensor:\n",
    "        print('foward-M', x.shape)\n",
    "        x_ = x\n",
    "        x = self.bottleneck(x)\n",
    "        # Conv1, Conv2, Conv3, MaxConv\n",
    "        x = torch.cat([conv(x) for conv in self.convolutions] + [self.maxconv(x_)], dim=1)\n",
    "        return self.activation(x)\n",
    "\n",
    "\n",
    "class InceptionBlock(nn.Module):\n",
    "    def __init__(self, in_channels: int, out_channels: int, residual: bool = True, depth: int = 6) -> None:\n",
    "        super().__init__()\n",
    "        self.residual = residual\n",
    "        self.depth = depth\n",
    "\n",
    "        self.inception, self.shortcut = nn.ModuleList(), nn.ModuleList()\n",
    "        for d in range(depth):\n",
    "            # Build each inception module\n",
    "            self.inception.append(InceptionModule(\n",
    "                in_channels=(in_channels if d == 0 else out_channels * 4), out_channels=out_channels,\n",
    "            ))\n",
    "            if self.residual and d % 3 == 2:\n",
    "                c_in, c_out = in_channels if d == 2 else out_channels * 4, out_channels * 4\n",
    "                self.shortcut.append(\n",
    "                    nn.BatchNorm1d(c_in) if c_in == c_out else nn.Sequential(*[nn.Conv1d(c_in, c_out, kernel_size=1, padding='same'), nn.BatchNorm1d(c_out)])\n",
    "                )\n",
    "        self.activation = ReLU()\n",
    "\n",
    "    def forward(self, x: torch.Tensor) -> torch.Tensor:\n",
    "        #print('foward-b', x.shape)\n",
    "        res = x\n",
    "        for d, l in enumerate(range(self.depth)):\n",
    "            x = self.inception[d](x)\n",
    "            if self.residual and d % 3 == 2:\n",
    "               res = x = self.activation(x + self.shortcut[d // 3](res))\n",
    "        return x\n",
    "\n",
    "\n",
    "class InceptionTime(nn.Module):\n",
    "    def __init__(self, in_channels: int, hidden_channels: int, sequence_len: int, class_num: int) -> None:\n",
    "        super().__init__()\n",
    "        self.inception_block = InceptionBlock(in_channels, hidden_channels)\n",
    "        self.fc = nn.Linear(hidden_channels * 4, class_num)\n",
    "        self.relu = nn.ReLU()\n",
    "\n",
    "    def forward(self, x: torch.Tensor) -> torch.Tensor:\n",
    "        #print('foward-Icpt', x.shape)\n",
    "        x = self.inception_block(x)\n",
    "        x = torch.mean(x, dim=-1)\n",
    "        return self.relu(self.fc(x))"
   ]
  },
  {
   "cell_type": "code",
   "execution_count": 68,
   "metadata": {
    "scrolled": true
   },
   "outputs": [],
   "source": [
    "path = r\"C:/Users/andre/1JUPYTER/MineiracaoDados/data\""
   ]
  },
  {
   "cell_type": "code",
   "execution_count": 70,
   "metadata": {},
   "outputs": [
    {
     "data": {
      "text/html": [
       "<div>\n",
       "<style scoped>\n",
       "    .dataframe tbody tr th:only-of-type {\n",
       "        vertical-align: middle;\n",
       "    }\n",
       "\n",
       "    .dataframe tbody tr th {\n",
       "        vertical-align: top;\n",
       "    }\n",
       "\n",
       "    .dataframe thead th {\n",
       "        text-align: right;\n",
       "    }\n",
       "</style>\n",
       "<table border=\"1\" class=\"dataframe\">\n",
       "  <thead>\n",
       "    <tr style=\"text-align: right;\">\n",
       "      <th></th>\n",
       "      <th>FileName</th>\n",
       "      <th>Class</th>\n",
       "    </tr>\n",
       "  </thead>\n",
       "  <tbody>\n",
       "    <tr>\n",
       "      <th>0</th>\n",
       "      <td>acoustic-guitar-logo-13084.wav</td>\n",
       "      <td>Sound_Guiatr</td>\n",
       "    </tr>\n",
       "    <tr>\n",
       "      <th>1</th>\n",
       "      <td>guitar-chords-70663.wav</td>\n",
       "      <td>Sound_Guiatr</td>\n",
       "    </tr>\n",
       "  </tbody>\n",
       "</table>\n",
       "</div>"
      ],
      "text/plain": [
       "                         FileName         Class\n",
       "0  acoustic-guitar-logo-13084.wav  Sound_Guiatr\n",
       "1         guitar-chords-70663.wav  Sound_Guiatr"
      ]
     },
     "execution_count": 70,
     "metadata": {},
     "output_type": "execute_result"
    }
   ],
   "source": [
    "test = pd.read_csv(path+'/Metadata_Test.csv')\n",
    "test.head(2)"
   ]
  },
  {
   "cell_type": "code",
   "execution_count": 71,
   "metadata": {},
   "outputs": [
    {
     "data": {
      "text/html": [
       "<div>\n",
       "<style scoped>\n",
       "    .dataframe tbody tr th:only-of-type {\n",
       "        vertical-align: middle;\n",
       "    }\n",
       "\n",
       "    .dataframe tbody tr th {\n",
       "        vertical-align: top;\n",
       "    }\n",
       "\n",
       "    .dataframe thead th {\n",
       "        text-align: right;\n",
       "    }\n",
       "</style>\n",
       "<table border=\"1\" class=\"dataframe\">\n",
       "  <thead>\n",
       "    <tr style=\"text-align: right;\">\n",
       "      <th></th>\n",
       "      <th>FileName</th>\n",
       "      <th>Class</th>\n",
       "    </tr>\n",
       "  </thead>\n",
       "  <tbody>\n",
       "    <tr>\n",
       "      <th>0</th>\n",
       "      <td>1-E1-Major 00.wav</td>\n",
       "      <td>Sound_Guitar</td>\n",
       "    </tr>\n",
       "    <tr>\n",
       "      <th>1</th>\n",
       "      <td>1-E1-Major 01.wav</td>\n",
       "      <td>Sound_Guitar</td>\n",
       "    </tr>\n",
       "  </tbody>\n",
       "</table>\n",
       "</div>"
      ],
      "text/plain": [
       "            FileName         Class\n",
       "0  1-E1-Major 00.wav  Sound_Guitar\n",
       "1  1-E1-Major 01.wav  Sound_Guitar"
      ]
     },
     "execution_count": 71,
     "metadata": {},
     "output_type": "execute_result"
    }
   ],
   "source": [
    "train = pd.read_csv(path+'/Metadata_Train.csv')\n",
    "train.head(2)"
   ]
  },
  {
   "cell_type": "code",
   "execution_count": null,
   "metadata": {},
   "outputs": [],
   "source": [
    "from os import listdir\n",
    "from os.path import isfile, join\n",
    "cat_wav_files = [f for f in listdir('Audio_cat_dog_classification/cats/') if isfile(join('Audio_cat_dog_classification/cats/', f)) and '.wav' in f and 'cat' in f]\n",
    "dog_wav_files = [f for f in listdir('Audio_cat_dog_classification/do gs/') if isfile(join('Audio_cat_dog_classification/dogs/', f)) and '.wav' in f and 'dog' in f]"
   ]
  },
  {
   "cell_type": "markdown",
   "metadata": {
    "id": "uHcwuOb4OEru"
   },
   "source": [
    "# Treinando a rede"
   ]
  },
  {
   "cell_type": "code",
   "execution_count": 18,
   "metadata": {},
   "outputs": [],
   "source": [
    "path = 'C:/Users/andre/1JUPYTER/MineiracaoDados'"
   ]
  },
  {
   "cell_type": "code",
   "execution_count": null,
   "metadata": {},
   "outputs": [],
   "source": [
    "tfms=[None, TSRegression()]\n",
    "batch_tfms = TSStandardize(by_sample=True, by_var=True) # Padronizando\n",
    "splits = get_splits(y, valid_size=.2, stratify=True, random_state=42, shuffle=True) # Data split igual para todos\n",
    "dls = get_ts_dls(X,y,splits=splits,tfms=tfms, batch_tfms=batch_tfms) # Dataloaders\n",
    "model = InceptionTime(dls.vars, 32, dls.len, dls.c) # Rede Neural\n",
    "learn = ts_learner(dls, model, metrics=[mae, rmse], cbs=[ShowGraph(), PredictionDynamics(alpha=.5, size=75)]) # Learner: usar MAE e RMSE, com grafico de loss e grafico Y_true Y_pred\n",
    "learn.fit_one_cycle(300, 3e-4) # 300 epocas e lr de 3e-4\n",
    "# learn.save_all(path=f'ReLU_{data}_{i}', dls_fname='dls', model_fname='InceptionTime', learner_fname='learner') # Salvando o modelo"
   ]
  },
  {
   "cell_type": "code",
   "execution_count": null,
   "metadata": {},
   "outputs": [],
   "source": []
  }
 ],
 "metadata": {
  "colab": {
   "provenance": []
  },
  "kernelspec": {
   "display_name": "Python 3 (ipykernel)",
   "language": "python",
   "name": "python3"
  },
  "language_info": {
   "codemirror_mode": {
    "name": "ipython",
    "version": 3
   },
   "file_extension": ".py",
   "mimetype": "text/x-python",
   "name": "python",
   "nbconvert_exporter": "python",
   "pygments_lexer": "ipython3",
   "version": "3.11.5"
  }
 },
 "nbformat": 4,
 "nbformat_minor": 1
}
